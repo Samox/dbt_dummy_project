{
 "cells": [
  {
   "cell_type": "code",
   "execution_count": 1,
   "metadata": {},
   "outputs": [
    {
     "name": "stdout",
     "output_type": "stream",
     "text": [
      "                             unique_key        date  metric_value  \\\n",
      "0  83626417-02cf-4506-9529-e5cc70b5ce58  2022-12-23          0.67   \n",
      "1  20ccf1cd-a447-4bc2-b79f-664e6352169e  2023-01-01          8.84   \n",
      "2  8fc5cf76-6b97-4a35-bec9-6fb809bdb1cf  2023-04-01          5.79   \n",
      "3  513557d3-506c-4da4-98e9-f276d8800544  2023-02-14          5.60   \n",
      "4  86c744f5-4385-4450-b09d-6302b0b8ee58  2023-07-16          0.24   \n",
      "\n",
      "  country_code    category                 created_at  \\\n",
      "0           GM  Category C 2023-10-25 11:08:02.955830   \n",
      "1           SL  Category C 2023-10-25 11:08:02.955830   \n",
      "2           JO  Category C 2023-10-25 11:08:02.955830   \n",
      "3           KN  Category C 2023-10-25 11:08:02.955830   \n",
      "4           TO  Category A 2023-10-25 11:08:02.955830   \n",
      "\n",
      "                  updated_at  \n",
      "0 2023-10-25 11:08:02.955830  \n",
      "1 2023-10-25 11:08:02.955830  \n",
      "2 2023-10-25 11:08:02.955830  \n",
      "3 2023-10-25 11:08:02.955830  \n",
      "4 2023-10-25 11:08:02.955830  \n"
     ]
    }
   ],
   "source": [
    "import pandas as pd\n",
    "import numpy as np\n",
    "import random \n",
    "\n",
    "from sqlalchemy import create_engine, text\n",
    "engine = create_engine('postgresql://sammyteillet@localhost:5432/dbt-dummy-project')\n",
    "query = text('SELECT * FROM source_bookings')\n",
    "df = pd.read_sql(query, engine)\n"
   ]
  },
  {
   "cell_type": "code",
   "execution_count": 2,
   "metadata": {},
   "outputs": [
    {
     "name": "stdout",
     "output_type": "stream",
     "text": [
      "[28542 25960 20368 22553  7803 38350 41374 24821 38493 13941 53221 43953\n",
      "   947 16233 43399 22288 27768 12511 48900 10936   422 38769 25910 53773\n",
      " 27395 48631 15260   279 11181 56913 17517 21487 17364 48512  1429 25529\n",
      " 29024 43637 23225 44412  3575 38564  8261 52394 56273 38914 36250 52606\n",
      " 39379 34198 53063 49506 35478  6741 51126 43451 14224 32708 25352 29518\n",
      " 13811 23052 49120  7804 38862 38521 12541 30697 34285  7111 39416 41080\n",
      " 33178 36813 38538 16556 11815 44191  1400 30083 49627  5049 30973 31420\n",
      " 57921 58757 19160 28761  2652 20975 45044 21708 40632 51848  7145  5287\n",
      " 30118  4505 49431 50193]\n"
     ]
    }
   ],
   "source": [
    "random_indices_metric = np.random.choice(df.index, size=100, replace=False)\n",
    "now = pd.Timestamp.now()\n",
    "\n",
    "df.loc[random_indices_metric, ['metric_value', 'updated_at']] = [(round(random.uniform(0, 10),2), now) for _ in range(100)]\n",
    "\n",
    "df.to_sql(name='source_bookings', con=engine, if_exists='replace', index=False)"
   ]
  }
 ],
 "metadata": {
  "kernelspec": {
   "display_name": "Python 3.11.4 64-bit",
   "language": "python",
   "name": "python3"
  },
  "language_info": {
   "codemirror_mode": {
    "name": "ipython",
    "version": 3
   },
   "file_extension": ".py",
   "mimetype": "text/x-python",
   "name": "python",
   "nbconvert_exporter": "python",
   "pygments_lexer": "ipython3",
   "version": "3.11.5"
  },
  "orig_nbformat": 4,
  "vscode": {
   "interpreter": {
    "hash": "aee8b7b246df8f9039afb4144a1f6fd8d2ca17a180786b69acc140d282b71a49"
   }
  }
 },
 "nbformat": 4,
 "nbformat_minor": 2
}
