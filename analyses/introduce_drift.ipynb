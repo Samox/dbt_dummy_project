{
 "cells": [
  {
   "cell_type": "code",
   "execution_count": 4,
   "metadata": {},
   "outputs": [
    {
     "name": "stdout",
     "output_type": "stream",
     "text": [
      "                             unique_key        date  metric_value  \\\n",
      "0  0d93e5f5-990f-4f64-b6a5-278a110b5b41  2022-10-05          3.91   \n",
      "1  a30b1678-7a10-459b-8942-a33235b5750c  2022-11-30          6.50   \n",
      "2  6e52168c-7773-4243-8768-5c5603d2dac2  2022-12-12          1.80   \n",
      "3  ac17fe27-a7f1-49bf-80aa-5b5d1c317fb8  2023-03-05          1.14   \n",
      "4  d01d9e98-6bed-4dcc-b3ae-8bc5765c1b24  2023-07-09          9.97   \n",
      "\n",
      "  country_code    category  \n",
      "0           KG  Category C  \n",
      "1           EC  Category C  \n",
      "2           SA  Category C  \n",
      "3           IQ  Category A  \n",
      "4           KN  Category C  \n",
      "[59198 49366  2940 38456 31092 21634 48850 11695 46374 38223 32183 26237\n",
      " 47720 31988 56246  6598 52910 48292 46985 12396  7339 52251 35004 53693\n",
      " 40094 30302 21119 33167 58284 59159  7899 57910 38902 57890 17779 41175\n",
      " 16689 36181 57552 29642  2797 20488 13375 25507 56655 36259 21217 29084\n",
      " 46627 50986 29410   741 59197 32325 47741  8678 50745  2638 25156  3897\n",
      "  3843 50077 53431 19798 42823 49349 45809 55206 29087 18020 35661 44193\n",
      " 59208 23093 31406 20422 16289 32865 59140 57305 38824 43141 12219 50570\n",
      " 25580 12408 18312  5216 29873 58847 35547 58894 34915 23909 56833 46429\n",
      "  1997 50304 41602 10670]\n"
     ]
    },
    {
     "data": {
      "text/plain": [
       "1000"
      ]
     },
     "execution_count": 4,
     "metadata": {},
     "output_type": "execute_result"
    }
   ],
   "source": [
    "import pandas as pd\n",
    "import numpy as np\n",
    "import random \n",
    "\n",
    "from sqlalchemy import create_engine\n",
    "engine = create_engine('postgresql://sammyteillet@localhost:5432/dbt-dummy-project')\n",
    "\n",
    "query = 'SELECT * FROM source_bookings'\n",
    "df = pd.read_sql(query, engine)\n",
    "print(df.head())\n",
    "\n",
    "random_indices_metric = np.random.choice(df.index, size=100, replace=False)\n",
    "print(random_indices_metric)\n",
    "# Update metric value with random values between 0 and 10\n",
    "df.loc[random_indices_metric, 'metric_value'] = [round(random.uniform(0, 10),2) for _ in range(100)]\n",
    "\n",
    "df.to_sql(name='source_bookings', con=engine, if_exists='replace', index=False)"
   ]
  }
 ],
 "metadata": {
  "kernelspec": {
   "display_name": "Python 3.11.4 64-bit",
   "language": "python",
   "name": "python3"
  },
  "language_info": {
   "codemirror_mode": {
    "name": "ipython",
    "version": 3
   },
   "file_extension": ".py",
   "mimetype": "text/x-python",
   "name": "python",
   "nbconvert_exporter": "python",
   "pygments_lexer": "ipython3",
   "version": "3.11.3"
  },
  "orig_nbformat": 4,
  "vscode": {
   "interpreter": {
    "hash": "aee8b7b246df8f9039afb4144a1f6fd8d2ca17a180786b69acc140d282b71a49"
   }
  }
 },
 "nbformat": 4,
 "nbformat_minor": 2
}
