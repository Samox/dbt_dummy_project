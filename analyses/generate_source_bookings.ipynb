{
 "cells": [
  {
   "cell_type": "code",
   "execution_count": 1,
   "metadata": {},
   "outputs": [
    {
     "name": "stdout",
     "output_type": "stream",
     "text": [
      "                                 unique_key        date  metric_value  \\\n",
      "0      5c8d37cb-1b59-45e9-9c02-8c4d3067cf65  2023-09-03          2.02   \n",
      "1      4987fa63-4474-41e9-b6d0-8d506bf0d7fc  2023-05-14          1.27   \n",
      "2      b03a18fc-01ca-4856-8671-41deb75fa84f  2022-12-12          2.50   \n",
      "3      1c557fb4-aea5-42ce-bb11-6addc33c7ac8  2023-04-22          3.85   \n",
      "4      10ac8690-615d-46b3-b4a0-bd14fcaf77ea  2023-03-07          3.36   \n",
      "...                                     ...         ...           ...   \n",
      "59995  b6ee36c9-f853-49c4-8c3e-06d22175f4c8  2023-10-21          2.95   \n",
      "59996  1ecce127-99e2-4cca-8c1d-2ab61d256b38  2023-11-18          3.81   \n",
      "59997  6c84a2a4-6e31-4a3d-a15b-690c78f7ee14  2023-07-06          2.54   \n",
      "59998  cd18c1ab-16ca-4973-9e4a-ccb4aabdc71d  2023-10-07          1.80   \n",
      "59999  54744a08-5938-4d5f-a357-24da8353831f  2023-03-08          2.65   \n",
      "\n",
      "      country_code    category                 created_at  \\\n",
      "0               NA  Category C 2023-11-27 11:52:20.365115   \n",
      "1               PH  Category A 2023-11-27 11:52:20.365115   \n",
      "2               KH  Category C 2023-11-27 11:52:20.365115   \n",
      "3               PW  Category C 2023-11-27 11:52:20.365115   \n",
      "4               TM  Category C 2023-11-27 11:52:20.365115   \n",
      "...            ...         ...                        ...   \n",
      "59995           BE  Category B 2023-11-27 11:52:20.365115   \n",
      "59996           VU  Category B 2023-11-27 11:52:20.365115   \n",
      "59997           SO  Category B 2023-11-27 11:52:20.365115   \n",
      "59998           BI  Category A 2023-11-27 11:52:20.365115   \n",
      "59999           VE  Category C 2023-11-27 11:52:20.365115   \n",
      "\n",
      "                      updated_at  \n",
      "0     2023-11-27 11:52:20.365115  \n",
      "1     2023-11-27 11:52:20.365115  \n",
      "2     2023-11-27 11:52:20.365115  \n",
      "3     2023-11-27 11:52:20.365115  \n",
      "4     2023-11-27 11:52:20.365115  \n",
      "...                          ...  \n",
      "59995 2023-11-27 11:52:20.365115  \n",
      "59996 2023-11-27 11:52:20.365115  \n",
      "59997 2023-11-27 11:52:20.365115  \n",
      "59998 2023-11-27 11:52:20.365115  \n",
      "59999 2023-11-27 11:52:20.365115  \n",
      "\n",
      "[60000 rows x 7 columns]\n"
     ]
    }
   ],
   "source": [
    "import pandas as pd\n",
    "from faker import Faker\n",
    "import random\n",
    "import os\n",
    "\n",
    "\n",
    "# Initialize Faker to generate random data\n",
    "fake = Faker()\n",
    "\n",
    "# Set the number of rows for the dataframe\n",
    "num_rows = 60000\n",
    "\n",
    "# Generate random IDs and dates\n",
    "ids = [fake.uuid4() for _ in range(num_rows)]\n",
    "dates = [fake.date_between(\n",
    "    start_date='-1y', end_date='-1m').strftime('%Y-%m-%d') for _ in range(num_rows)]\n",
    "\n",
    "# Generate random metric values between 0 and 10\n",
    "metric_values = [round(random.uniform(0, 10), 2) for _ in range(num_rows)]\n",
    "# Generate random country codes\n",
    "country_codes = [fake.country_code() for _ in range(num_rows)]\n",
    "\n",
    "# Generate random categories\n",
    "categories = [random.choice(\n",
    "    ['Category A', 'Category B', 'Category C']) for _ in range(num_rows)]\n",
    "now = pd.Timestamp.now()\n",
    "\n",
    "# Create the dataframe\n",
    "ultra_large_df = pd.DataFrame({'unique_key': ids,\n",
    "                               'date': dates,\n",
    "                               'metric_value': metric_values,\n",
    "                               'country_code': country_codes,\n",
    "                               'category': categories,\n",
    "                               'created_at': [now for _ in range(num_rows)],\n",
    "                               'updated_at': [now for _ in range(num_rows)]})\n",
    "\n",
    "# Print the dataframe\n",
    "print(ultra_large_df)\n"
   ]
  },
  {
   "cell_type": "code",
   "execution_count": 2,
   "metadata": {},
   "outputs": [
    {
     "data": {
      "text/plain": [
       "1000"
      ]
     },
     "execution_count": 2,
     "metadata": {},
     "output_type": "execute_result"
    }
   ],
   "source": [
    "from sqlalchemy import create_engine, text\n",
    "engine = create_engine('postgresql://sammyteillet@localhost:5432/dbt-dummy-project')\n",
    "ultra_large_df.to_sql(name='source_bookings', con=engine, if_exists='replace', index=False)"
   ]
  }
 ],
 "metadata": {
  "kernelspec": {
   "display_name": "Python 3.11.4 64-bit",
   "language": "python",
   "name": "python3"
  },
  "language_info": {
   "codemirror_mode": {
    "name": "ipython",
    "version": 3
   },
   "file_extension": ".py",
   "mimetype": "text/x-python",
   "name": "python",
   "nbconvert_exporter": "python",
   "pygments_lexer": "ipython3",
   "version": "3.11.5"
  },
  "orig_nbformat": 4,
  "vscode": {
   "interpreter": {
    "hash": "aee8b7b246df8f9039afb4144a1f6fd8d2ca17a180786b69acc140d282b71a49"
   }
  }
 },
 "nbformat": 4,
 "nbformat_minor": 2
}
