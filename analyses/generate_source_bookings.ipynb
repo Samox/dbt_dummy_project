{
 "cells": [
  {
   "cell_type": "code",
   "execution_count": 3,
   "metadata": {},
   "outputs": [
    {
     "name": "stdout",
     "output_type": "stream",
     "text": [
      "                                 unique_key        date  metric_value  \\\n",
      "0      f8d61a84-ddc6-4281-be01-ca154cf2cf7d  2023-01-19          1.87   \n",
      "1      c99774a8-f494-4c37-b4e7-5bd14a7c8ecf  2023-04-04          6.10   \n",
      "2      83626417-02cf-4506-9529-e5cc70b5ce58  2022-12-23          0.67   \n",
      "3      20ccf1cd-a447-4bc2-b79f-664e6352169e  2023-01-01          8.84   \n",
      "4      8fc5cf76-6b97-4a35-bec9-6fb809bdb1cf  2023-04-01          5.79   \n",
      "...                                     ...         ...           ...   \n",
      "59995  c7329ddc-045a-4448-ad56-d399ebb81e99  2023-08-03          8.86   \n",
      "59996  52e495fe-50da-4f8e-8666-52a58d875359  2023-06-13          1.33   \n",
      "59997  0a6afde5-07b0-47fc-a42e-31fb488e5c59  2023-05-19          4.85   \n",
      "59998  da7f4bed-0295-4c6c-8281-52b52d4d670f  2023-06-25          6.94   \n",
      "59999  46fc6b13-b266-4278-8c9c-747a9bfe051e  2023-03-28          2.41   \n",
      "\n",
      "      country_code    category                 created_at  \\\n",
      "0               MX  Category B 2023-10-25 11:08:02.955830   \n",
      "1               BO  Category A 2023-10-25 11:08:02.955830   \n",
      "2               GM  Category C 2023-10-25 11:08:02.955830   \n",
      "3               SL  Category C 2023-10-25 11:08:02.955830   \n",
      "4               JO  Category C 2023-10-25 11:08:02.955830   \n",
      "...            ...         ...                        ...   \n",
      "59995           PE  Category C 2023-10-25 11:08:02.955830   \n",
      "59996           CR  Category C 2023-10-25 11:08:02.955830   \n",
      "59997           HR  Category C 2023-10-25 11:08:02.955830   \n",
      "59998           ID  Category B 2023-10-25 11:08:02.955830   \n",
      "59999           AO  Category B 2023-10-25 11:08:02.955830   \n",
      "\n",
      "                      updated_at  \n",
      "0     2023-10-25 11:08:02.955830  \n",
      "1     2023-10-25 11:08:02.955830  \n",
      "2     2023-10-25 11:08:02.955830  \n",
      "3     2023-10-25 11:08:02.955830  \n",
      "4     2023-10-25 11:08:02.955830  \n",
      "...                          ...  \n",
      "59995 2023-10-25 11:08:02.955830  \n",
      "59996 2023-10-25 11:08:02.955830  \n",
      "59997 2023-10-25 11:08:02.955830  \n",
      "59998 2023-10-25 11:08:02.955830  \n",
      "59999 2023-10-25 11:08:02.955830  \n",
      "\n",
      "[60000 rows x 7 columns]\n"
     ]
    }
   ],
   "source": [
    "import pandas as pd\n",
    "from faker import Faker\n",
    "import random\n",
    "import os\n",
    "\n",
    "\n",
    "# Initialize Faker to generate random data\n",
    "fake = Faker()\n",
    "\n",
    "# Set the number of rows for the dataframe\n",
    "num_rows = 60000\n",
    "\n",
    "# Generate random IDs and dates\n",
    "ids = [fake.uuid4() for _ in range(num_rows)]\n",
    "dates = [fake.date_between(\n",
    "    start_date='-1y', end_date='-1m').strftime('%Y-%m-%d') for _ in range(num_rows)]\n",
    "\n",
    "# Generate random metric values between 0 and 10\n",
    "metric_values = [round(random.uniform(0, 10), 2) for _ in range(num_rows)]\n",
    "# Generate random country codes\n",
    "country_codes = [fake.country_code() for _ in range(num_rows)]\n",
    "\n",
    "# Generate random categories\n",
    "categories = [random.choice(\n",
    "    ['Category A', 'Category B', 'Category C']) for _ in range(num_rows)]\n",
    "now = pd.Timestamp.now()\n",
    "\n",
    "# Create the dataframe\n",
    "ultra_large_df = pd.DataFrame({'unique_key': ids,\n",
    "                               'date': dates,\n",
    "                               'metric_value': metric_values,\n",
    "                               'country_code': country_codes,\n",
    "                               'category': categories,\n",
    "                               'created_at': [now for _ in range(num_rows)],\n",
    "                               'updated_at': [now for _ in range(num_rows)]})\n",
    "\n",
    "# Print the dataframe\n",
    "print(ultra_large_df)\n"
   ]
  },
  {
   "cell_type": "code",
   "execution_count": 4,
   "metadata": {},
   "outputs": [
    {
     "data": {
      "text/plain": [
       "1000"
      ]
     },
     "execution_count": 4,
     "metadata": {},
     "output_type": "execute_result"
    }
   ],
   "source": [
    "from sqlalchemy import create_engine, text\n",
    "engine = create_engine('postgresql://sammyteillet@localhost:5432/dbt-dummy-project')\n",
    "ultra_large_df.to_sql(name='source_bookings', con=engine, if_exists='replace', index=False)"
   ]
  }
 ],
 "metadata": {
  "kernelspec": {
   "display_name": "Python 3.11.4 64-bit",
   "language": "python",
   "name": "python3"
  },
  "language_info": {
   "codemirror_mode": {
    "name": "ipython",
    "version": 3
   },
   "file_extension": ".py",
   "mimetype": "text/x-python",
   "name": "python",
   "nbconvert_exporter": "python",
   "pygments_lexer": "ipython3",
   "version": "3.11.5"
  },
  "orig_nbformat": 4,
  "vscode": {
   "interpreter": {
    "hash": "aee8b7b246df8f9039afb4144a1f6fd8d2ca17a180786b69acc140d282b71a49"
   }
  }
 },
 "nbformat": 4,
 "nbformat_minor": 2
}
